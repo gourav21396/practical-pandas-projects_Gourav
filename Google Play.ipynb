{
 "cells": [
  {
   "cell_type": "code",
   "execution_count": 1,
   "metadata": {},
   "outputs": [
    {
     "name": "stdout",
     "output_type": "stream",
     "text": [
      "We can crawl Google Play? True\n"
     ]
    }
   ],
   "source": [
    "import urllib.robotparser\n",
    "\n",
    "rp = urllib.robotparser.RobotFileParser()\n",
    "rp.set_url(\"https://www.etsy.com/robots.txt\")\n",
    "rp.read()\n",
    "rp.crawl_delay(\"*\")\n",
    "\n",
    "test_crawl_url=\"https://play.google.com/store/apps/details?id=com.wildnotion.poetscorner\"\n",
    "\n",
    "can_crawl_listings = rp.can_fetch(\"*\", test_crawl_url)\n",
    "print(\"We can crawl Google Play? {0}\".format(can_crawl_listings)) "
   ]
  },
  {
   "cell_type": "code",
   "execution_count": 4,
   "metadata": {},
   "outputs": [],
   "source": [
    "import pandas as pd\n",
    "df = pd.read_csv(r\"C:\\Users\\gosharm\\Downloads\\TEST\\Data Science\\practical-pandas-projects_Gourav\\datasets\\google-play-store-11-2018.csv\")"
   ]
  },
  {
   "cell_type": "code",
   "execution_count": 27,
   "metadata": {},
   "outputs": [
    {
     "ename": "UFuncTypeError",
     "evalue": "ufunc 'divide' cannot use operands with types dtype('int64') and dtype('<m8[ns]')",
     "output_type": "error",
     "traceback": [
      "\u001b[1;31m---------------------------------------------------------------------------\u001b[0m",
      "\u001b[1;31mUFuncTypeError\u001b[0m                            Traceback (most recent call last)",
      "Cell \u001b[1;32mIn[27], line 8\u001b[0m\n\u001b[0;32m      6\u001b[0m df\u001b[39m.\u001b[39mrename(columns\u001b[39m=\u001b[39m{\u001b[39m'\u001b[39m\u001b[39mrating_one_star\u001b[39m\u001b[39m'\u001b[39m: \u001b[39m'\u001b[39m\u001b[39m1 Star\u001b[39m\u001b[39m'\u001b[39m, \u001b[39m'\u001b[39m\u001b[39mrating_two_star\u001b[39m\u001b[39m'\u001b[39m: \u001b[39m'\u001b[39m\u001b[39m2 Star\u001b[39m\u001b[39m'\u001b[39m, \u001b[39m'\u001b[39m\u001b[39mrating_three_star\u001b[39m\u001b[39m'\u001b[39m: \u001b[39m'\u001b[39m\u001b[39m3 Star\u001b[39m\u001b[39m'\u001b[39m, \u001b[39m'\u001b[39m\u001b[39mrating_four_star\u001b[39m\u001b[39m'\u001b[39m: \u001b[39m'\u001b[39m\u001b[39m4 Star\u001b[39m\u001b[39m'\u001b[39m, \u001b[39m'\u001b[39m\u001b[39mrating_five_star\u001b[39m\u001b[39m'\u001b[39m: \u001b[39m'\u001b[39m\u001b[39m5 Star\u001b[39m\u001b[39m'\u001b[39m}, inplace\u001b[39m=\u001b[39m\u001b[39mTrue\u001b[39;00m)\n\u001b[0;32m      7\u001b[0m \u001b[39mtype\u001b[39m(df[\u001b[39m\"\u001b[39m\u001b[39mNo_Of_Days\u001b[39m\u001b[39m\"\u001b[39m])\n\u001b[1;32m----> 8\u001b[0m df[\u001b[39m'\u001b[39m\u001b[39mAvg_download\u001b[39m\u001b[39m'\u001b[39m] \u001b[39m=\u001b[39m df[\u001b[39m'\u001b[39;49m\u001b[39mmin_installs\u001b[39;49m\u001b[39m'\u001b[39;49m]\u001b[39m/\u001b[39;49mdf[\u001b[39m'\u001b[39;49m\u001b[39mNo_Of_Days\u001b[39;49m\u001b[39m'\u001b[39;49m]\n\u001b[0;32m      9\u001b[0m \u001b[39m#df\u001b[39;00m\n",
      "File \u001b[1;32mc:\\Users\\gosharm\\AppData\\Local\\Programs\\Python\\Python311\\Lib\\site-packages\\pandas\\core\\ops\\common.py:81\u001b[0m, in \u001b[0;36m_unpack_zerodim_and_defer.<locals>.new_method\u001b[1;34m(self, other)\u001b[0m\n\u001b[0;32m     77\u001b[0m             \u001b[39mreturn\u001b[39;00m \u001b[39mNotImplemented\u001b[39m\n\u001b[0;32m     79\u001b[0m other \u001b[39m=\u001b[39m item_from_zerodim(other)\n\u001b[1;32m---> 81\u001b[0m \u001b[39mreturn\u001b[39;00m method(\u001b[39mself\u001b[39;49m, other)\n",
      "File \u001b[1;32mc:\\Users\\gosharm\\AppData\\Local\\Programs\\Python\\Python311\\Lib\\site-packages\\pandas\\core\\arraylike.py:210\u001b[0m, in \u001b[0;36mOpsMixin.__truediv__\u001b[1;34m(self, other)\u001b[0m\n\u001b[0;32m    208\u001b[0m \u001b[39m@unpack_zerodim_and_defer\u001b[39m(\u001b[39m\"\u001b[39m\u001b[39m__truediv__\u001b[39m\u001b[39m\"\u001b[39m)\n\u001b[0;32m    209\u001b[0m \u001b[39mdef\u001b[39;00m \u001b[39m__truediv__\u001b[39m(\u001b[39mself\u001b[39m, other):\n\u001b[1;32m--> 210\u001b[0m     \u001b[39mreturn\u001b[39;00m \u001b[39mself\u001b[39;49m\u001b[39m.\u001b[39;49m_arith_method(other, operator\u001b[39m.\u001b[39;49mtruediv)\n",
      "File \u001b[1;32mc:\\Users\\gosharm\\AppData\\Local\\Programs\\Python\\Python311\\Lib\\site-packages\\pandas\\core\\series.py:6108\u001b[0m, in \u001b[0;36mSeries._arith_method\u001b[1;34m(self, other, op)\u001b[0m\n\u001b[0;32m   6106\u001b[0m \u001b[39mdef\u001b[39;00m \u001b[39m_arith_method\u001b[39m(\u001b[39mself\u001b[39m, other, op):\n\u001b[0;32m   6107\u001b[0m     \u001b[39mself\u001b[39m, other \u001b[39m=\u001b[39m ops\u001b[39m.\u001b[39malign_method_SERIES(\u001b[39mself\u001b[39m, other)\n\u001b[1;32m-> 6108\u001b[0m     \u001b[39mreturn\u001b[39;00m base\u001b[39m.\u001b[39;49mIndexOpsMixin\u001b[39m.\u001b[39;49m_arith_method(\u001b[39mself\u001b[39;49m, other, op)\n",
      "File \u001b[1;32mc:\\Users\\gosharm\\AppData\\Local\\Programs\\Python\\Python311\\Lib\\site-packages\\pandas\\core\\base.py:1348\u001b[0m, in \u001b[0;36mIndexOpsMixin._arith_method\u001b[1;34m(self, other, op)\u001b[0m\n\u001b[0;32m   1345\u001b[0m rvalues \u001b[39m=\u001b[39m ensure_wrapped_if_datetimelike(rvalues)\n\u001b[0;32m   1347\u001b[0m \u001b[39mwith\u001b[39;00m np\u001b[39m.\u001b[39merrstate(\u001b[39mall\u001b[39m\u001b[39m=\u001b[39m\u001b[39m\"\u001b[39m\u001b[39mignore\u001b[39m\u001b[39m\"\u001b[39m):\n\u001b[1;32m-> 1348\u001b[0m     result \u001b[39m=\u001b[39m ops\u001b[39m.\u001b[39;49marithmetic_op(lvalues, rvalues, op)\n\u001b[0;32m   1350\u001b[0m \u001b[39mreturn\u001b[39;00m \u001b[39mself\u001b[39m\u001b[39m.\u001b[39m_construct_result(result, name\u001b[39m=\u001b[39mres_name)\n",
      "File \u001b[1;32mc:\\Users\\gosharm\\AppData\\Local\\Programs\\Python\\Python311\\Lib\\site-packages\\pandas\\core\\ops\\array_ops.py:224\u001b[0m, in \u001b[0;36marithmetic_op\u001b[1;34m(left, right, op)\u001b[0m\n\u001b[0;32m    211\u001b[0m \u001b[39m# NB: We assume that extract_array and ensure_wrapped_if_datetimelike\u001b[39;00m\n\u001b[0;32m    212\u001b[0m \u001b[39m#  have already been called on `left` and `right`,\u001b[39;00m\n\u001b[0;32m    213\u001b[0m \u001b[39m#  and `maybe_prepare_scalar_for_op` has already been called on `right`\u001b[39;00m\n\u001b[0;32m    214\u001b[0m \u001b[39m# We need to special-case datetime64/timedelta64 dtypes (e.g. because numpy\u001b[39;00m\n\u001b[0;32m    215\u001b[0m \u001b[39m# casts integer dtypes to timedelta64 when operating with timedelta64 - GH#22390)\u001b[39;00m\n\u001b[0;32m    217\u001b[0m \u001b[39mif\u001b[39;00m (\n\u001b[0;32m    218\u001b[0m     should_extension_dispatch(left, right)\n\u001b[0;32m    219\u001b[0m     \u001b[39mor\u001b[39;00m \u001b[39misinstance\u001b[39m(right, (Timedelta, BaseOffset, Timestamp))\n\u001b[1;32m   (...)\u001b[0m\n\u001b[0;32m    222\u001b[0m     \u001b[39m# Timedelta/Timestamp and other custom scalars are included in the check\u001b[39;00m\n\u001b[0;32m    223\u001b[0m     \u001b[39m# because numexpr will fail on it, see GH#31457\u001b[39;00m\n\u001b[1;32m--> 224\u001b[0m     res_values \u001b[39m=\u001b[39m op(left, right)\n\u001b[0;32m    225\u001b[0m \u001b[39melse\u001b[39;00m:\n\u001b[0;32m    226\u001b[0m     \u001b[39m# TODO we should handle EAs consistently and move this check before the if/else\u001b[39;00m\n\u001b[0;32m    227\u001b[0m     \u001b[39m# (https://github.com/pandas-dev/pandas/issues/41165)\u001b[39;00m\n\u001b[0;32m    228\u001b[0m     _bool_arith_check(op, left, right)\n",
      "File \u001b[1;32mc:\\Users\\gosharm\\AppData\\Local\\Programs\\Python\\Python311\\Lib\\site-packages\\pandas\\core\\arrays\\datetimelike.py:1993\u001b[0m, in \u001b[0;36mTimelikeOps.__array_ufunc__\u001b[1;34m(self, ufunc, method, *inputs, **kwargs)\u001b[0m\n\u001b[0;32m   1985\u001b[0m \u001b[39mif\u001b[39;00m (\n\u001b[0;32m   1986\u001b[0m     ufunc \u001b[39min\u001b[39;00m [np\u001b[39m.\u001b[39misnan, np\u001b[39m.\u001b[39misinf, np\u001b[39m.\u001b[39misfinite]\n\u001b[0;32m   1987\u001b[0m     \u001b[39mand\u001b[39;00m \u001b[39mlen\u001b[39m(inputs) \u001b[39m==\u001b[39m \u001b[39m1\u001b[39m\n\u001b[0;32m   1988\u001b[0m     \u001b[39mand\u001b[39;00m inputs[\u001b[39m0\u001b[39m] \u001b[39mis\u001b[39;00m \u001b[39mself\u001b[39m\n\u001b[0;32m   1989\u001b[0m ):\n\u001b[0;32m   1990\u001b[0m     \u001b[39m# numpy 1.18 changed isinf and isnan to not raise on dt64/td64\u001b[39;00m\n\u001b[0;32m   1991\u001b[0m     \u001b[39mreturn\u001b[39;00m \u001b[39mgetattr\u001b[39m(ufunc, method)(\u001b[39mself\u001b[39m\u001b[39m.\u001b[39m_ndarray, \u001b[39m*\u001b[39m\u001b[39m*\u001b[39mkwargs)\n\u001b[1;32m-> 1993\u001b[0m \u001b[39mreturn\u001b[39;00m \u001b[39msuper\u001b[39;49m()\u001b[39m.\u001b[39;49m__array_ufunc__(ufunc, method, \u001b[39m*\u001b[39;49minputs, \u001b[39m*\u001b[39;49m\u001b[39m*\u001b[39;49mkwargs)\n",
      "File \u001b[1;32mc:\\Users\\gosharm\\AppData\\Local\\Programs\\Python\\Python311\\Lib\\site-packages\\pandas\\core\\arrays\\base.py:1686\u001b[0m, in \u001b[0;36mExtensionArray.__array_ufunc__\u001b[1;34m(self, ufunc, method, *inputs, **kwargs)\u001b[0m\n\u001b[0;32m   1683\u001b[0m     \u001b[39mif\u001b[39;00m result \u001b[39mis\u001b[39;00m \u001b[39mnot\u001b[39;00m \u001b[39mNotImplemented\u001b[39m:\n\u001b[0;32m   1684\u001b[0m         \u001b[39mreturn\u001b[39;00m result\n\u001b[1;32m-> 1686\u001b[0m \u001b[39mreturn\u001b[39;00m arraylike\u001b[39m.\u001b[39;49mdefault_array_ufunc(\u001b[39mself\u001b[39;49m, ufunc, method, \u001b[39m*\u001b[39;49minputs, \u001b[39m*\u001b[39;49m\u001b[39m*\u001b[39;49mkwargs)\n",
      "File \u001b[1;32mc:\\Users\\gosharm\\AppData\\Local\\Programs\\Python\\Python311\\Lib\\site-packages\\pandas\\core\\arraylike.py:489\u001b[0m, in \u001b[0;36mdefault_array_ufunc\u001b[1;34m(self, ufunc, method, *inputs, **kwargs)\u001b[0m\n\u001b[0;32m    485\u001b[0m     \u001b[39mraise\u001b[39;00m \u001b[39mNotImplementedError\u001b[39;00m\n\u001b[0;32m    487\u001b[0m new_inputs \u001b[39m=\u001b[39m [x \u001b[39mif\u001b[39;00m x \u001b[39mis\u001b[39;00m \u001b[39mnot\u001b[39;00m \u001b[39mself\u001b[39m \u001b[39melse\u001b[39;00m np\u001b[39m.\u001b[39masarray(x) \u001b[39mfor\u001b[39;00m x \u001b[39min\u001b[39;00m inputs]\n\u001b[1;32m--> 489\u001b[0m \u001b[39mreturn\u001b[39;00m \u001b[39mgetattr\u001b[39;49m(ufunc, method)(\u001b[39m*\u001b[39;49mnew_inputs, \u001b[39m*\u001b[39;49m\u001b[39m*\u001b[39;49mkwargs)\n",
      "\u001b[1;31mUFuncTypeError\u001b[0m: ufunc 'divide' cannot use operands with types dtype('int64') and dtype('<m8[ns]')"
     ]
    }
   ],
   "source": [
    "from datetime import date\n",
    "import datetime as dt\n",
    "today = date.today()\n",
    "df[\"Current Day\"] = today\n",
    "df[\"No_Of_Days\"] = (pd.to_datetime(df[\"Current Day\"]) - pd.to_datetime(df[\"released\"]))\n",
    "df.rename(columns={'rating_one_star': '1 Star', 'rating_two_star': '2 Star', 'rating_three_star': '3 Star', 'rating_four_star': '4 Star', 'rating_five_star': '5 Star'}, inplace=True)\n",
    "type(df[\"No_Of_Days\"])\n",
    "#df['Avg_download'] = df['min_installs']/df['No_Of_Days']\n",
    "#df"
   ]
  },
  {
   "cell_type": "code",
   "execution_count": null,
   "metadata": {},
   "outputs": [],
   "source": []
  }
 ],
 "metadata": {
  "kernelspec": {
   "display_name": "Python 3",
   "language": "python",
   "name": "python3"
  },
  "language_info": {
   "codemirror_mode": {
    "name": "ipython",
    "version": 3
   },
   "file_extension": ".py",
   "mimetype": "text/x-python",
   "name": "python",
   "nbconvert_exporter": "python",
   "pygments_lexer": "ipython3",
   "version": "3.11.1"
  },
  "orig_nbformat": 4
 },
 "nbformat": 4,
 "nbformat_minor": 2
}
